{
 "cells": [
  {
   "cell_type": "code",
   "execution_count": 1,
   "id": "c136952f-2dbd-40f3-be7c-adffe40000ea",
   "metadata": {
    "tags": []
   },
   "outputs": [
    {
     "name": "stdout",
     "output_type": "stream",
     "text": [
      "done importing\n"
     ]
    }
   ],
   "source": [
    "import os\n",
    "import glob\n",
    "import pandas as pd\n",
    "import pickle\n",
    "import matplotlib.pyplot as plt\n",
    "import numpy as np\n",
    "import random\n",
    "from datetime import datetime, timedelta\n",
    "from dateutil.relativedelta import relativedelta\n",
    "import pprint\n",
    "import pyspark\n",
    "from pyspark.sql import SparkSession\n",
    "import pyspark.sql.functions as F\n",
    "\n",
    "from pyspark.sql.functions import col\n",
    "from pyspark.sql.types import StringType, IntegerType, FloatType, DateType\n",
    "\n",
    "from sklearn.model_selection import train_test_split\n",
    "from sklearn.preprocessing import StandardScaler\n",
    "\n",
    "import xgboost as xgb\n",
    "from sklearn.model_selection import RandomizedSearchCV\n",
    "from sklearn.metrics import make_scorer, f1_score, roc_auc_score\n",
    "from sklearn.datasets import make_classification\n",
    "from sklearn.model_selection import train_test_split\n",
    "print('done importing')"
   ]
  },
  {
   "cell_type": "code",
   "execution_count": 2,
   "id": "b006c03a-d8a0-4275-90f7-d744fd6b2e3c",
   "metadata": {
    "tags": []
   },
   "outputs": [
    {
     "name": "stderr",
     "output_type": "stream",
     "text": [
      "Setting default log level to \"WARN\".\n",
      "To adjust logging level use sc.setLogLevel(newLevel). For SparkR, use setLogLevel(newLevel).\n",
      "25/06/27 09:57:13 WARN NativeCodeLoader: Unable to load native-hadoop library for your platform... using builtin-java classes where applicable\n",
      "/home/airflow/.local/lib/python3.7/site-packages/pyspark/context.py:317: FutureWarning: Python 3.7 support is deprecated in Spark 3.4.\n",
      "  warnings.warn(\"Python 3.7 support is deprecated in Spark 3.4.\", FutureWarning)\n"
     ]
    }
   ],
   "source": [
    "spark = SparkSession \\\n",
    "    .builder \\\n",
    "    .config(\"spark.driver.memory\", \"4g\") \\\n",
    "    .getOrCreate()\n",
    "\n",
    "# Set log level to ERROR to hide warnings\n",
    "spark.sparkContext.setLogLevel(\"ERROR\")"
   ]
  },
  {
   "cell_type": "code",
   "execution_count": 3,
   "id": "9ab26104-e2f3-4414-b354-d00568e08e12",
   "metadata": {
    "tags": []
   },
   "outputs": [],
   "source": [
    "def setup_config():\n",
    "    snapshot_date_str = \"2024-01-01\"\n",
    "    model_name = \"credit_model_2024_09_01.pkl\"\n",
    "\n",
    "    config = {}\n",
    "    config[\"snapshot_date_str\"] = snapshot_date_str\n",
    "    config[\"snapshot_date\"] = datetime.strptime(config[\"snapshot_date_str\"], \"%Y-%m-%d\")\n",
    "\n",
    "    config[\"model_name\"] = model_name\n",
    "    config[\"model_bank_directory\"] = \"model_bank/\"\n",
    "    config[\"model_artefact_filepath\"] = config[\"model_bank_directory\"] + config[\"model_name\"]\n",
    "\n",
    "    print(\"Config setup complete\")\n",
    "    pprint.pprint(config)\n",
    "\n",
    "    return config\n",
    "\n",
    "def read_gold_table(table, gold_db, spark):\n",
    "    folder_path = os.path.join(gold_db, table)\n",
    "    files_list = [os.path.join(folder_path, os.path.basename(f)) for f in glob.glob(os.path.join(folder_path, '*'))]\n",
    "    df = spark.read.option(\"header\", \"true\").parquet(*files_list)\n",
    "    return df"
   ]
  },
  {
   "cell_type": "code",
   "execution_count": 4,
   "id": "b2a279c2-980c-4782-ba9f-9c6c1f6db79e",
   "metadata": {
    "tags": []
   },
   "outputs": [
    {
     "name": "stdout",
     "output_type": "stream",
     "text": [
      "Config setup complete\n",
      "{'model_artefact_filepath': 'model_bank/credit_model_2024_09_01.pkl',\n",
      " 'model_bank_directory': 'model_bank/',\n",
      " 'model_name': 'credit_model_2024_09_01.pkl',\n",
      " 'snapshot_date': datetime.datetime(2024, 1, 1, 0, 0),\n",
      " 'snapshot_date_str': '2024-01-01'}\n"
     ]
    }
   ],
   "source": [
    "# == Setup configuration ===\n",
    "config = setup_config()"
   ]
  },
  {
   "cell_type": "code",
   "execution_count": 28,
   "id": "83fd8f77-390d-4b53-9b15-fdb495f83d26",
   "metadata": {
    "tags": []
   },
   "outputs": [
    {
     "name": "stderr",
     "output_type": "stream",
     "text": [
      "[Stage 19:==============>                                           (1 + 3) / 4]\r"
     ]
    },
    {
     "name": "stdout",
     "output_type": "stream",
     "text": [
      "<class 'pandas.core.frame.DataFrame'>\n",
      "Int64Index: 8974 entries, 0 to 5002\n",
      "Data columns (total 5 columns):\n",
      " #   Column         Non-Null Count  Dtype         \n",
      "---  ------         --------------  -----         \n",
      " 0   loan_id        8974 non-null   object        \n",
      " 1   customer_id    8974 non-null   object        \n",
      " 2   label          8974 non-null   int32         \n",
      " 3   label_def      8974 non-null   object        \n",
      " 4   snapshot_date  8974 non-null   datetime64[ns]\n",
      "dtypes: datetime64[ns](1), int32(1), object(3)\n",
      "memory usage: 385.6+ KB\n"
     ]
    },
    {
     "name": "stderr",
     "output_type": "stream",
     "text": [
      "                                                                                \r"
     ]
    }
   ],
   "source": [
    "# ==== Load Feature Data ====\n",
    "y_spark = read_gold_table('label_store', 'datamart/gold', spark)\n",
    "y_df = y_spark.toPandas().sort_values(by='snapshot_date')\n",
    "y_df['snapshot_date'] = pd.to_datetime(y_df['snapshot_date'])\n",
    "y_df.info()"
   ]
  },
  {
   "cell_type": "code",
   "execution_count": 29,
   "id": "12a17740-46ff-45a4-972f-5d5deb9a4e9f",
   "metadata": {
    "tags": []
   },
   "outputs": [
    {
     "name": "stdout",
     "output_type": "stream",
     "text": [
      "<class 'pandas.core.frame.DataFrame'>\n",
      "Int64Index: 485 entries, 0 to 484\n",
      "Data columns (total 4 columns):\n",
      " #   Column         Non-Null Count  Dtype         \n",
      "---  ------         --------------  -----         \n",
      " 0   customer_id    485 non-null    object        \n",
      " 1   snapshot_date  485 non-null    datetime64[ns]\n",
      " 2   model_name     485 non-null    object        \n",
      " 3   prediction     485 non-null    float64       \n",
      "dtypes: datetime64[ns](1), float64(1), object(2)\n",
      "memory usage: 18.9+ KB\n"
     ]
    }
   ],
   "source": [
    "# ==== Load Inference ========\n",
    "inference_path = f\"datamart/gold/predictions/{config['model_name']}/{config['model_name'][:-4]}_predictions_{config['snapshot_date_str'].replace('-', '_')}.parquet\"\n",
    "y_inference = spark.read.option(\"header\", \"true\").parquet(inference_path)\n",
    "y_inference_pdf = y_inference.toPandas().sort_values(by='snapshot_date')\n",
    "y_inference_pdf['snapshot_date'] = pd.to_datetime(y_inference_pdf['snapshot_date'])\n",
    "y_inference_pdf.info()"
   ]
  },
  {
   "cell_type": "code",
   "execution_count": 36,
   "id": "47ec5bb4-f952-4e28-8fba-e91b5416b167",
   "metadata": {
    "tags": []
   },
   "outputs": [
    {
     "data": {
      "text/plain": [
       "CUS_0x1130    1\n",
       "CUS_0x90cf    1\n",
       "CUS_0x960e    1\n",
       "CUS_0x94f6    1\n",
       "CUS_0x94e8    1\n",
       "             ..\n",
       "CUS_0x4f16    1\n",
       "CUS_0x4e0e    1\n",
       "CUS_0x4dd5    1\n",
       "CUS_0x4dd1    1\n",
       "CUS_0xfb8     1\n",
       "Name: customer_id, Length: 471, dtype: int64"
      ]
     },
     "execution_count": 36,
     "metadata": {},
     "output_type": "execute_result"
    }
   ],
   "source": [
    "y_df[y_df['snapshot_date'] == pd.to_datetime('2024-01-01')].sort_values(by='customer_id')['customer_id'].value_counts()"
   ]
  },
  {
   "cell_type": "code",
   "execution_count": 38,
   "id": "3465a71c-20f6-4562-b166-92996b8a0520",
   "metadata": {
    "tags": []
   },
   "outputs": [
    {
     "data": {
      "text/plain": [
       "CUS_0x102d    1\n",
       "CUS_0x853d    1\n",
       "CUS_0x8e5f    1\n",
       "CUS_0x8e38    1\n",
       "CUS_0x8da2    1\n",
       "             ..\n",
       "CUS_0x4953    1\n",
       "CUS_0x48f     1\n",
       "CUS_0x48e     1\n",
       "CUS_0x4874    1\n",
       "CUS_0xffc     1\n",
       "Name: customer_id, Length: 485, dtype: int64"
      ]
     },
     "execution_count": 38,
     "metadata": {},
     "output_type": "execute_result"
    }
   ],
   "source": [
    "y_inference_pdf.sort_values(by='customer_id')['customer_id'].value_counts()"
   ]
  },
  {
   "cell_type": "code",
   "execution_count": 41,
   "id": "b8c8a980-a4e8-4023-885e-58469a2baa1d",
   "metadata": {
    "tags": []
   },
   "outputs": [
    {
     "data": {
      "text/html": [
       "<div>\n",
       "<style scoped>\n",
       "    .dataframe tbody tr th:only-of-type {\n",
       "        vertical-align: middle;\n",
       "    }\n",
       "\n",
       "    .dataframe tbody tr th {\n",
       "        vertical-align: top;\n",
       "    }\n",
       "\n",
       "    .dataframe thead th {\n",
       "        text-align: right;\n",
       "    }\n",
       "</style>\n",
       "<table border=\"1\" class=\"dataframe\">\n",
       "  <thead>\n",
       "    <tr style=\"text-align: right;\">\n",
       "      <th></th>\n",
       "      <th>customer_id</th>\n",
       "      <th>snapshot_date_x</th>\n",
       "      <th>model_name</th>\n",
       "      <th>prediction</th>\n",
       "      <th>snapshot_date_y</th>\n",
       "      <th>label</th>\n",
       "    </tr>\n",
       "  </thead>\n",
       "  <tbody>\n",
       "    <tr>\n",
       "      <th>0</th>\n",
       "      <td>CUS_0x9778</td>\n",
       "      <td>2024-01-01</td>\n",
       "      <td>credit_model_2024_09_01.pkl</td>\n",
       "      <td>0.247142</td>\n",
       "      <td>2024-07-01</td>\n",
       "      <td>0</td>\n",
       "    </tr>\n",
       "    <tr>\n",
       "      <th>1</th>\n",
       "      <td>CUS_0x305c</td>\n",
       "      <td>2024-01-01</td>\n",
       "      <td>credit_model_2024_09_01.pkl</td>\n",
       "      <td>0.198256</td>\n",
       "      <td>2024-07-01</td>\n",
       "      <td>0</td>\n",
       "    </tr>\n",
       "    <tr>\n",
       "      <th>2</th>\n",
       "      <td>CUS_0x303a</td>\n",
       "      <td>2024-01-01</td>\n",
       "      <td>credit_model_2024_09_01.pkl</td>\n",
       "      <td>0.371733</td>\n",
       "      <td>2024-07-01</td>\n",
       "      <td>1</td>\n",
       "    </tr>\n",
       "    <tr>\n",
       "      <th>3</th>\n",
       "      <td>CUS_0x2ff7</td>\n",
       "      <td>2024-01-01</td>\n",
       "      <td>credit_model_2024_09_01.pkl</td>\n",
       "      <td>0.077434</td>\n",
       "      <td>2024-07-01</td>\n",
       "      <td>0</td>\n",
       "    </tr>\n",
       "    <tr>\n",
       "      <th>4</th>\n",
       "      <td>CUS_0x2fc5</td>\n",
       "      <td>2024-01-01</td>\n",
       "      <td>credit_model_2024_09_01.pkl</td>\n",
       "      <td>0.690279</td>\n",
       "      <td>2024-07-01</td>\n",
       "      <td>1</td>\n",
       "    </tr>\n",
       "    <tr>\n",
       "      <th>...</th>\n",
       "      <td>...</td>\n",
       "      <td>...</td>\n",
       "      <td>...</td>\n",
       "      <td>...</td>\n",
       "      <td>...</td>\n",
       "      <td>...</td>\n",
       "    </tr>\n",
       "    <tr>\n",
       "      <th>480</th>\n",
       "      <td>CUS_0x7622</td>\n",
       "      <td>2024-01-01</td>\n",
       "      <td>credit_model_2024_09_01.pkl</td>\n",
       "      <td>0.147215</td>\n",
       "      <td>2024-07-01</td>\n",
       "      <td>0</td>\n",
       "    </tr>\n",
       "    <tr>\n",
       "      <th>481</th>\n",
       "      <td>CUS_0x7500</td>\n",
       "      <td>2024-01-01</td>\n",
       "      <td>credit_model_2024_09_01.pkl</td>\n",
       "      <td>0.078024</td>\n",
       "      <td>2024-07-01</td>\n",
       "      <td>0</td>\n",
       "    </tr>\n",
       "    <tr>\n",
       "      <th>482</th>\n",
       "      <td>CUS_0x7480</td>\n",
       "      <td>2024-01-01</td>\n",
       "      <td>credit_model_2024_09_01.pkl</td>\n",
       "      <td>0.155120</td>\n",
       "      <td>2024-07-01</td>\n",
       "      <td>0</td>\n",
       "    </tr>\n",
       "    <tr>\n",
       "      <th>483</th>\n",
       "      <td>CUS_0x8449</td>\n",
       "      <td>2024-01-01</td>\n",
       "      <td>credit_model_2024_09_01.pkl</td>\n",
       "      <td>0.134830</td>\n",
       "      <td>2024-07-01</td>\n",
       "      <td>0</td>\n",
       "    </tr>\n",
       "    <tr>\n",
       "      <th>484</th>\n",
       "      <td>CUS_0x67e</td>\n",
       "      <td>2024-01-01</td>\n",
       "      <td>credit_model_2024_09_01.pkl</td>\n",
       "      <td>0.103645</td>\n",
       "      <td>2024-07-01</td>\n",
       "      <td>0</td>\n",
       "    </tr>\n",
       "  </tbody>\n",
       "</table>\n",
       "<p>485 rows × 6 columns</p>\n",
       "</div>"
      ],
      "text/plain": [
       "    customer_id snapshot_date_x                   model_name  prediction  \\\n",
       "0    CUS_0x9778      2024-01-01  credit_model_2024_09_01.pkl    0.247142   \n",
       "1    CUS_0x305c      2024-01-01  credit_model_2024_09_01.pkl    0.198256   \n",
       "2    CUS_0x303a      2024-01-01  credit_model_2024_09_01.pkl    0.371733   \n",
       "3    CUS_0x2ff7      2024-01-01  credit_model_2024_09_01.pkl    0.077434   \n",
       "4    CUS_0x2fc5      2024-01-01  credit_model_2024_09_01.pkl    0.690279   \n",
       "..          ...             ...                          ...         ...   \n",
       "480  CUS_0x7622      2024-01-01  credit_model_2024_09_01.pkl    0.147215   \n",
       "481  CUS_0x7500      2024-01-01  credit_model_2024_09_01.pkl    0.078024   \n",
       "482  CUS_0x7480      2024-01-01  credit_model_2024_09_01.pkl    0.155120   \n",
       "483  CUS_0x8449      2024-01-01  credit_model_2024_09_01.pkl    0.134830   \n",
       "484   CUS_0x67e      2024-01-01  credit_model_2024_09_01.pkl    0.103645   \n",
       "\n",
       "    snapshot_date_y  label  \n",
       "0        2024-07-01      0  \n",
       "1        2024-07-01      0  \n",
       "2        2024-07-01      1  \n",
       "3        2024-07-01      0  \n",
       "4        2024-07-01      1  \n",
       "..              ...    ...  \n",
       "480      2024-07-01      0  \n",
       "481      2024-07-01      0  \n",
       "482      2024-07-01      0  \n",
       "483      2024-07-01      0  \n",
       "484      2024-07-01      0  \n",
       "\n",
       "[485 rows x 6 columns]"
      ]
     },
     "execution_count": 41,
     "metadata": {},
     "output_type": "execute_result"
    }
   ],
   "source": [
    "df_monitor = pd.merge(\n",
    "    y_inference_pdf,\n",
    "    y_df[['customer_id', 'snapshot_date', 'label']],\n",
    "    on=['customer_id'],\n",
    "    how='inner'\n",
    ")\n",
    "df_monitor"
   ]
  },
  {
   "cell_type": "code",
   "execution_count": null,
   "id": "8e901611-34ba-48bb-bdae-4ef3ca5d2da4",
   "metadata": {},
   "outputs": [],
   "source": []
  },
  {
   "cell_type": "code",
   "execution_count": null,
   "id": "61bbb011-c230-4add-9579-46d2985568e0",
   "metadata": {},
   "outputs": [],
   "source": []
  },
  {
   "cell_type": "code",
   "execution_count": null,
   "id": "f69b4841-13bc-4746-b4fd-84e1119d4d1e",
   "metadata": {},
   "outputs": [],
   "source": []
  }
 ],
 "metadata": {
  "kernelspec": {
   "display_name": "Python 3 (ipykernel)",
   "language": "python",
   "name": "python3"
  },
  "language_info": {
   "codemirror_mode": {
    "name": "ipython",
    "version": 3
   },
   "file_extension": ".py",
   "mimetype": "text/x-python",
   "name": "python",
   "nbconvert_exporter": "python",
   "pygments_lexer": "ipython3",
   "version": "3.7.16"
  }
 },
 "nbformat": 4,
 "nbformat_minor": 5
}
