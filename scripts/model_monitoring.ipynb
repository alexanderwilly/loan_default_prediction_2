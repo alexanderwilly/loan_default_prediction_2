{
 "cells": [
  {
   "cell_type": "code",
   "execution_count": 1,
   "id": "c136952f-2dbd-40f3-be7c-adffe40000ea",
   "metadata": {
    "tags": []
   },
   "outputs": [
    {
     "name": "stdout",
     "output_type": "stream",
     "text": [
      "done importing\n"
     ]
    }
   ],
   "source": [
    "import os\n",
    "import glob\n",
    "import pandas as pd\n",
    "import pickle\n",
    "import matplotlib.pyplot as plt\n",
    "import numpy as np\n",
    "import random\n",
    "from datetime import datetime, timedelta\n",
    "from dateutil.relativedelta import relativedelta\n",
    "import pprint\n",
    "import pyspark\n",
    "from pyspark.sql import SparkSession\n",
    "import pyspark.sql.functions as F\n",
    "\n",
    "from pyspark.sql.functions import col\n",
    "from pyspark.sql.types import StringType, IntegerType, FloatType, DateType\n",
    "\n",
    "from sklearn.model_selection import train_test_split\n",
    "from sklearn.preprocessing import StandardScaler\n",
    "\n",
    "import xgboost as xgb\n",
    "from sklearn.model_selection import RandomizedSearchCV\n",
    "from sklearn.metrics import make_scorer, f1_score, roc_auc_score, accuracy_score, precision_score, recall_score, precision_recall_curve, classification_report\n",
    "from sklearn.datasets import make_classification\n",
    "from sklearn.model_selection import train_test_split\n",
    "print('done importing')"
   ]
  },
  {
   "cell_type": "code",
   "execution_count": 2,
   "id": "b006c03a-d8a0-4275-90f7-d744fd6b2e3c",
   "metadata": {
    "tags": []
   },
   "outputs": [
    {
     "name": "stderr",
     "output_type": "stream",
     "text": [
      "Setting default log level to \"WARN\".\n",
      "To adjust logging level use sc.setLogLevel(newLevel). For SparkR, use setLogLevel(newLevel).\n",
      "25/06/27 14:50:35 WARN NativeCodeLoader: Unable to load native-hadoop library for your platform... using builtin-java classes where applicable\n",
      "/home/airflow/.local/lib/python3.7/site-packages/pyspark/context.py:317: FutureWarning: Python 3.7 support is deprecated in Spark 3.4.\n",
      "  warnings.warn(\"Python 3.7 support is deprecated in Spark 3.4.\", FutureWarning)\n"
     ]
    }
   ],
   "source": [
    "spark = SparkSession \\\n",
    "    .builder \\\n",
    "    .config(\"spark.driver.memory\", \"4g\") \\\n",
    "    .getOrCreate()\n",
    "\n",
    "# Set log level to ERROR to hide warnings\n",
    "spark.sparkContext.setLogLevel(\"ERROR\")"
   ]
  },
  {
   "cell_type": "markdown",
   "id": "57ecdc73-bb40-40d3-b1b4-5060370aa8cf",
   "metadata": {},
   "source": [
    "# setup config"
   ]
  },
  {
   "cell_type": "code",
   "execution_count": 3,
   "id": "9ab26104-e2f3-4414-b354-d00568e08e12",
   "metadata": {
    "tags": []
   },
   "outputs": [],
   "source": [
    "def setup_config():\n",
    "    snapshot_date_str = \"2024-01-01\"\n",
    "    model_name = \"credit_model_2024_09_01.pkl\"\n",
    "\n",
    "    config = {}\n",
    "    config[\"snapshot_date_str\"] = snapshot_date_str\n",
    "    config[\"snapshot_date\"] = datetime.strptime(config[\"snapshot_date_str\"], \"%Y-%m-%d\")\n",
    "\n",
    "    config[\"model_name\"] = model_name\n",
    "    config[\"model_bank_directory\"] = \"model_bank/\"\n",
    "    config[\"model_artefact_filepath\"] = config[\"model_bank_directory\"] + config[\"model_name\"]\n",
    "\n",
    "    print(\"Config setup complete\")\n",
    "    pprint.pprint(config)\n",
    "\n",
    "    return config\n",
    "\n",
    "def read_gold_table(table, gold_db, spark):\n",
    "    folder_path = os.path.join(gold_db, table)\n",
    "    files_list = [os.path.join(folder_path, os.path.basename(f)) for f in glob.glob(os.path.join(folder_path, '*'))]\n",
    "    df = spark.read.option(\"header\", \"true\").parquet(*files_list)\n",
    "    return df"
   ]
  },
  {
   "cell_type": "code",
   "execution_count": 4,
   "id": "b2a279c2-980c-4782-ba9f-9c6c1f6db79e",
   "metadata": {
    "tags": []
   },
   "outputs": [
    {
     "name": "stdout",
     "output_type": "stream",
     "text": [
      "Config setup complete\n",
      "{'model_artefact_filepath': 'model_bank/credit_model_2024_09_01.pkl',\n",
      " 'model_bank_directory': 'model_bank/',\n",
      " 'model_name': 'credit_model_2024_09_01.pkl',\n",
      " 'snapshot_date': datetime.datetime(2024, 1, 1, 0, 0),\n",
      " 'snapshot_date_str': '2024-01-01'}\n"
     ]
    }
   ],
   "source": [
    "# == Setup configuration ===\n",
    "config = setup_config()"
   ]
  },
  {
   "cell_type": "markdown",
   "id": "20329be3-9532-4427-ad21-8ddd0092044d",
   "metadata": {},
   "source": [
    "# load label store"
   ]
  },
  {
   "cell_type": "code",
   "execution_count": 5,
   "id": "83fd8f77-390d-4b53-9b15-fdb495f83d26",
   "metadata": {
    "tags": []
   },
   "outputs": [
    {
     "name": "stderr",
     "output_type": "stream",
     "text": [
      "                                                                                \r"
     ]
    }
   ],
   "source": [
    "# ==== Load Label Store ====\n",
    "y_spark = read_gold_table('label_store', 'datamart/gold', spark)\n",
    "y_df = y_spark.toPandas().sort_values(by='snapshot_date')\n",
    "y_df['snapshot_date'] = pd.to_datetime(y_df['snapshot_date'])"
   ]
  },
  {
   "cell_type": "markdown",
   "id": "e4ca3767-d50c-42c5-9cf6-1142d9af48da",
   "metadata": {},
   "source": [
    "# load inference table"
   ]
  },
  {
   "cell_type": "code",
   "execution_count": 6,
   "id": "12a17740-46ff-45a4-972f-5d5deb9a4e9f",
   "metadata": {
    "tags": []
   },
   "outputs": [],
   "source": [
    "# ==== Load Inference ========\n",
    "inference_path = f\"datamart/gold/predictions/{config['model_name']}/{config['model_name'][:-4]}_predictions_{config['snapshot_date_str'].replace('-', '_')}.parquet\"\n",
    "y_inference = spark.read.option(\"header\", \"true\").parquet(inference_path)\n",
    "y_inference_pdf = y_inference.toPandas().sort_values(by='snapshot_date')\n",
    "y_inference_pdf['snapshot_date'] = pd.to_datetime(y_inference_pdf['snapshot_date'])"
   ]
  },
  {
   "cell_type": "markdown",
   "id": "1b85082c-126b-4df5-8094-722f8feb4f64",
   "metadata": {},
   "source": [
    "# monitor with performance metrics"
   ]
  },
  {
   "cell_type": "code",
   "execution_count": 7,
   "id": "b8c8a980-a4e8-4023-885e-58469a2baa1d",
   "metadata": {
    "tags": []
   },
   "outputs": [],
   "source": [
    "df_monitor = pd.merge(\n",
    "    y_inference_pdf,\n",
    "    y_df[['customer_id', 'snapshot_date', 'label']],\n",
    "    on=['customer_id'],\n",
    "    how='inner'\n",
    ")"
   ]
  },
  {
   "cell_type": "code",
   "execution_count": 8,
   "id": "ec8c5eac-60a7-4abd-9c33-0cb4539db8a9",
   "metadata": {
    "tags": []
   },
   "outputs": [
    {
     "data": {
      "text/html": [
       "<div>\n",
       "<style scoped>\n",
       "    .dataframe tbody tr th:only-of-type {\n",
       "        vertical-align: middle;\n",
       "    }\n",
       "\n",
       "    .dataframe tbody tr th {\n",
       "        vertical-align: top;\n",
       "    }\n",
       "\n",
       "    .dataframe thead th {\n",
       "        text-align: right;\n",
       "    }\n",
       "</style>\n",
       "<table border=\"1\" class=\"dataframe\">\n",
       "  <thead>\n",
       "    <tr style=\"text-align: right;\">\n",
       "      <th></th>\n",
       "      <th>customer_id</th>\n",
       "      <th>model_name</th>\n",
       "      <th>prediction</th>\n",
       "      <th>label</th>\n",
       "      <th>snapshot_date</th>\n",
       "    </tr>\n",
       "  </thead>\n",
       "  <tbody>\n",
       "    <tr>\n",
       "      <th>0</th>\n",
       "      <td>CUS_0x9778</td>\n",
       "      <td>credit_model_2024_09_01.pkl</td>\n",
       "      <td>0.247142</td>\n",
       "      <td>0</td>\n",
       "      <td>2024-01-01</td>\n",
       "    </tr>\n",
       "    <tr>\n",
       "      <th>1</th>\n",
       "      <td>CUS_0x305c</td>\n",
       "      <td>credit_model_2024_09_01.pkl</td>\n",
       "      <td>0.198256</td>\n",
       "      <td>0</td>\n",
       "      <td>2024-01-01</td>\n",
       "    </tr>\n",
       "    <tr>\n",
       "      <th>2</th>\n",
       "      <td>CUS_0x303a</td>\n",
       "      <td>credit_model_2024_09_01.pkl</td>\n",
       "      <td>0.371733</td>\n",
       "      <td>1</td>\n",
       "      <td>2024-01-01</td>\n",
       "    </tr>\n",
       "    <tr>\n",
       "      <th>3</th>\n",
       "      <td>CUS_0x2ff7</td>\n",
       "      <td>credit_model_2024_09_01.pkl</td>\n",
       "      <td>0.077434</td>\n",
       "      <td>0</td>\n",
       "      <td>2024-01-01</td>\n",
       "    </tr>\n",
       "    <tr>\n",
       "      <th>4</th>\n",
       "      <td>CUS_0x2fc5</td>\n",
       "      <td>credit_model_2024_09_01.pkl</td>\n",
       "      <td>0.690279</td>\n",
       "      <td>1</td>\n",
       "      <td>2024-01-01</td>\n",
       "    </tr>\n",
       "    <tr>\n",
       "      <th>...</th>\n",
       "      <td>...</td>\n",
       "      <td>...</td>\n",
       "      <td>...</td>\n",
       "      <td>...</td>\n",
       "      <td>...</td>\n",
       "    </tr>\n",
       "    <tr>\n",
       "      <th>480</th>\n",
       "      <td>CUS_0x7622</td>\n",
       "      <td>credit_model_2024_09_01.pkl</td>\n",
       "      <td>0.147215</td>\n",
       "      <td>0</td>\n",
       "      <td>2024-01-01</td>\n",
       "    </tr>\n",
       "    <tr>\n",
       "      <th>481</th>\n",
       "      <td>CUS_0x7500</td>\n",
       "      <td>credit_model_2024_09_01.pkl</td>\n",
       "      <td>0.078024</td>\n",
       "      <td>0</td>\n",
       "      <td>2024-01-01</td>\n",
       "    </tr>\n",
       "    <tr>\n",
       "      <th>482</th>\n",
       "      <td>CUS_0x7480</td>\n",
       "      <td>credit_model_2024_09_01.pkl</td>\n",
       "      <td>0.155120</td>\n",
       "      <td>0</td>\n",
       "      <td>2024-01-01</td>\n",
       "    </tr>\n",
       "    <tr>\n",
       "      <th>483</th>\n",
       "      <td>CUS_0x8449</td>\n",
       "      <td>credit_model_2024_09_01.pkl</td>\n",
       "      <td>0.134830</td>\n",
       "      <td>0</td>\n",
       "      <td>2024-01-01</td>\n",
       "    </tr>\n",
       "    <tr>\n",
       "      <th>484</th>\n",
       "      <td>CUS_0x67e</td>\n",
       "      <td>credit_model_2024_09_01.pkl</td>\n",
       "      <td>0.103645</td>\n",
       "      <td>0</td>\n",
       "      <td>2024-01-01</td>\n",
       "    </tr>\n",
       "  </tbody>\n",
       "</table>\n",
       "<p>485 rows × 5 columns</p>\n",
       "</div>"
      ],
      "text/plain": [
       "    customer_id                   model_name  prediction  label snapshot_date\n",
       "0    CUS_0x9778  credit_model_2024_09_01.pkl    0.247142      0    2024-01-01\n",
       "1    CUS_0x305c  credit_model_2024_09_01.pkl    0.198256      0    2024-01-01\n",
       "2    CUS_0x303a  credit_model_2024_09_01.pkl    0.371733      1    2024-01-01\n",
       "3    CUS_0x2ff7  credit_model_2024_09_01.pkl    0.077434      0    2024-01-01\n",
       "4    CUS_0x2fc5  credit_model_2024_09_01.pkl    0.690279      1    2024-01-01\n",
       "..          ...                          ...         ...    ...           ...\n",
       "480  CUS_0x7622  credit_model_2024_09_01.pkl    0.147215      0    2024-01-01\n",
       "481  CUS_0x7500  credit_model_2024_09_01.pkl    0.078024      0    2024-01-01\n",
       "482  CUS_0x7480  credit_model_2024_09_01.pkl    0.155120      0    2024-01-01\n",
       "483  CUS_0x8449  credit_model_2024_09_01.pkl    0.134830      0    2024-01-01\n",
       "484   CUS_0x67e  credit_model_2024_09_01.pkl    0.103645      0    2024-01-01\n",
       "\n",
       "[485 rows x 5 columns]"
      ]
     },
     "execution_count": 8,
     "metadata": {},
     "output_type": "execute_result"
    }
   ],
   "source": [
    "df_monitor = df_monitor[['customer_id', 'model_name', 'prediction', 'label', 'snapshot_date_x']]\n",
    "df_monitor['snapshot_date'] = df_monitor['snapshot_date_x']\n",
    "df_monitor = df_monitor.drop('snapshot_date_x', axis = 1)\n",
    "df_monitor"
   ]
  },
  {
   "cell_type": "code",
   "execution_count": 9,
   "id": "8e901611-34ba-48bb-bdae-4ef3ca5d2da4",
   "metadata": {
    "tags": []
   },
   "outputs": [
    {
     "data": {
      "text/html": [
       "<div>\n",
       "<style scoped>\n",
       "    .dataframe tbody tr th:only-of-type {\n",
       "        vertical-align: middle;\n",
       "    }\n",
       "\n",
       "    .dataframe tbody tr th {\n",
       "        vertical-align: top;\n",
       "    }\n",
       "\n",
       "    .dataframe thead th {\n",
       "        text-align: right;\n",
       "    }\n",
       "</style>\n",
       "<table border=\"1\" class=\"dataframe\">\n",
       "  <thead>\n",
       "    <tr style=\"text-align: right;\">\n",
       "      <th></th>\n",
       "      <th>customer_id</th>\n",
       "      <th>model_name</th>\n",
       "      <th>prediction</th>\n",
       "      <th>label</th>\n",
       "      <th>snapshot_date</th>\n",
       "      <th>pred_label</th>\n",
       "    </tr>\n",
       "  </thead>\n",
       "  <tbody>\n",
       "    <tr>\n",
       "      <th>0</th>\n",
       "      <td>CUS_0x9778</td>\n",
       "      <td>credit_model_2024_09_01.pkl</td>\n",
       "      <td>0.247142</td>\n",
       "      <td>0</td>\n",
       "      <td>2024-01-01</td>\n",
       "      <td>0</td>\n",
       "    </tr>\n",
       "    <tr>\n",
       "      <th>1</th>\n",
       "      <td>CUS_0x305c</td>\n",
       "      <td>credit_model_2024_09_01.pkl</td>\n",
       "      <td>0.198256</td>\n",
       "      <td>0</td>\n",
       "      <td>2024-01-01</td>\n",
       "      <td>0</td>\n",
       "    </tr>\n",
       "    <tr>\n",
       "      <th>2</th>\n",
       "      <td>CUS_0x303a</td>\n",
       "      <td>credit_model_2024_09_01.pkl</td>\n",
       "      <td>0.371733</td>\n",
       "      <td>1</td>\n",
       "      <td>2024-01-01</td>\n",
       "      <td>1</td>\n",
       "    </tr>\n",
       "    <tr>\n",
       "      <th>3</th>\n",
       "      <td>CUS_0x2ff7</td>\n",
       "      <td>credit_model_2024_09_01.pkl</td>\n",
       "      <td>0.077434</td>\n",
       "      <td>0</td>\n",
       "      <td>2024-01-01</td>\n",
       "      <td>0</td>\n",
       "    </tr>\n",
       "    <tr>\n",
       "      <th>4</th>\n",
       "      <td>CUS_0x2fc5</td>\n",
       "      <td>credit_model_2024_09_01.pkl</td>\n",
       "      <td>0.690279</td>\n",
       "      <td>1</td>\n",
       "      <td>2024-01-01</td>\n",
       "      <td>1</td>\n",
       "    </tr>\n",
       "    <tr>\n",
       "      <th>...</th>\n",
       "      <td>...</td>\n",
       "      <td>...</td>\n",
       "      <td>...</td>\n",
       "      <td>...</td>\n",
       "      <td>...</td>\n",
       "      <td>...</td>\n",
       "    </tr>\n",
       "    <tr>\n",
       "      <th>480</th>\n",
       "      <td>CUS_0x7622</td>\n",
       "      <td>credit_model_2024_09_01.pkl</td>\n",
       "      <td>0.147215</td>\n",
       "      <td>0</td>\n",
       "      <td>2024-01-01</td>\n",
       "      <td>0</td>\n",
       "    </tr>\n",
       "    <tr>\n",
       "      <th>481</th>\n",
       "      <td>CUS_0x7500</td>\n",
       "      <td>credit_model_2024_09_01.pkl</td>\n",
       "      <td>0.078024</td>\n",
       "      <td>0</td>\n",
       "      <td>2024-01-01</td>\n",
       "      <td>0</td>\n",
       "    </tr>\n",
       "    <tr>\n",
       "      <th>482</th>\n",
       "      <td>CUS_0x7480</td>\n",
       "      <td>credit_model_2024_09_01.pkl</td>\n",
       "      <td>0.155120</td>\n",
       "      <td>0</td>\n",
       "      <td>2024-01-01</td>\n",
       "      <td>0</td>\n",
       "    </tr>\n",
       "    <tr>\n",
       "      <th>483</th>\n",
       "      <td>CUS_0x8449</td>\n",
       "      <td>credit_model_2024_09_01.pkl</td>\n",
       "      <td>0.134830</td>\n",
       "      <td>0</td>\n",
       "      <td>2024-01-01</td>\n",
       "      <td>0</td>\n",
       "    </tr>\n",
       "    <tr>\n",
       "      <th>484</th>\n",
       "      <td>CUS_0x67e</td>\n",
       "      <td>credit_model_2024_09_01.pkl</td>\n",
       "      <td>0.103645</td>\n",
       "      <td>0</td>\n",
       "      <td>2024-01-01</td>\n",
       "      <td>0</td>\n",
       "    </tr>\n",
       "  </tbody>\n",
       "</table>\n",
       "<p>485 rows × 6 columns</p>\n",
       "</div>"
      ],
      "text/plain": [
       "    customer_id                   model_name  prediction  label snapshot_date  \\\n",
       "0    CUS_0x9778  credit_model_2024_09_01.pkl    0.247142      0    2024-01-01   \n",
       "1    CUS_0x305c  credit_model_2024_09_01.pkl    0.198256      0    2024-01-01   \n",
       "2    CUS_0x303a  credit_model_2024_09_01.pkl    0.371733      1    2024-01-01   \n",
       "3    CUS_0x2ff7  credit_model_2024_09_01.pkl    0.077434      0    2024-01-01   \n",
       "4    CUS_0x2fc5  credit_model_2024_09_01.pkl    0.690279      1    2024-01-01   \n",
       "..          ...                          ...         ...    ...           ...   \n",
       "480  CUS_0x7622  credit_model_2024_09_01.pkl    0.147215      0    2024-01-01   \n",
       "481  CUS_0x7500  credit_model_2024_09_01.pkl    0.078024      0    2024-01-01   \n",
       "482  CUS_0x7480  credit_model_2024_09_01.pkl    0.155120      0    2024-01-01   \n",
       "483  CUS_0x8449  credit_model_2024_09_01.pkl    0.134830      0    2024-01-01   \n",
       "484   CUS_0x67e  credit_model_2024_09_01.pkl    0.103645      0    2024-01-01   \n",
       "\n",
       "     pred_label  \n",
       "0             0  \n",
       "1             0  \n",
       "2             1  \n",
       "3             0  \n",
       "4             1  \n",
       "..          ...  \n",
       "480           0  \n",
       "481           0  \n",
       "482           0  \n",
       "483           0  \n",
       "484           0  \n",
       "\n",
       "[485 rows x 6 columns]"
      ]
     },
     "execution_count": 9,
     "metadata": {},
     "output_type": "execute_result"
    }
   ],
   "source": [
    "# Threshold = 0.35\n",
    "threshold = 0.35\n",
    "y_pred_train = (df_monitor['prediction'] >= threshold).astype(int)\n",
    "df_monitor['pred_label'] = y_pred_train\n",
    "df_monitor"
   ]
  },
  {
   "cell_type": "code",
   "execution_count": 10,
   "id": "f69b4841-13bc-4746-b4fd-84e1119d4d1e",
   "metadata": {
    "tags": []
   },
   "outputs": [
    {
     "name": "stdout",
     "output_type": "stream",
     "text": [
      "Monitoring report:\n",
      "               precision    recall  f1-score   support\n",
      "\n",
      "           0       0.87      0.89      0.88       341\n",
      "           1       0.73      0.67      0.70       144\n",
      "\n",
      "    accuracy                           0.83       485\n",
      "   macro avg       0.80      0.78      0.79       485\n",
      "weighted avg       0.83      0.83      0.83       485\n",
      "\n"
     ]
    }
   ],
   "source": [
    "# classification report\n",
    "monitoring_cr = classification_report(df_monitor['label'], df_monitor['pred_label'])\n",
    "\n",
    "print(f\"Monitoring report:\\n {monitoring_cr}\")"
   ]
  },
  {
   "cell_type": "code",
   "execution_count": 12,
   "id": "1d6b9dee-57b9-45ab-8b5c-80f907699766",
   "metadata": {
    "tags": []
   },
   "outputs": [
    {
     "name": "stdout",
     "output_type": "stream",
     "text": [
      "accuracy: 0.8288659793814434\n",
      "precision: 0.7293233082706767\n",
      "recall: 0.6736111111111112\n",
      "f1 score: 0.700361010830325\n"
     ]
    }
   ],
   "source": [
    "monitor_accuracy = accuracy_score(df_monitor['label'], df_monitor['pred_label'])\n",
    "monitor_precision = precision_score(df_monitor['label'], df_monitor['pred_label'])\n",
    "monitor_recall = recall_score(df_monitor['label'], df_monitor['pred_label'])\n",
    "monitor_f1 = f1_score(df_monitor['label'], df_monitor['pred_label'])\n",
    "\n",
    "\n",
    "print('accuracy:', monitor_accuracy)\n",
    "print('precision:', monitor_precision)\n",
    "print('recall:', monitor_recall)\n",
    "print('f1 score:', monitor_f1)"
   ]
  }
 ],
 "metadata": {
  "kernelspec": {
   "display_name": "Python 3 (ipykernel)",
   "language": "python",
   "name": "python3"
  },
  "language_info": {
   "codemirror_mode": {
    "name": "ipython",
    "version": 3
   },
   "file_extension": ".py",
   "mimetype": "text/x-python",
   "name": "python",
   "nbconvert_exporter": "python",
   "pygments_lexer": "ipython3",
   "version": "3.7.16"
  }
 },
 "nbformat": 4,
 "nbformat_minor": 5
}
